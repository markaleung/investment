{
 "cells": [
  {
   "cell_type": "code",
   "execution_count": null,
   "metadata": {},
   "outputs": [],
   "source": [
    "import chdir\n",
    "from classes import all_years\n",
    "import addModules, googleio"
   ]
  },
  {
   "cell_type": "code",
   "execution_count": null,
   "metadata": {},
   "outputs": [],
   "source": [
    "# Fits curve between initial yield and N year returns\n",
    "## Stocks\n",
    "stock = all_years.Stock()\n",
    "stock.main()\n",
    "## Bonds\n",
    "bond = all_years.Bond()\n",
    "bond.main()\n",
    "\n",
    "# No fit curve\n",
    "## Half Stock Half Bonds\n",
    "half = all_years.AllYears()\n",
    "half.config.allocation = 0.5\n",
    "half.main()\n",
    "\n",
    "googleio.write_out('Investment Returns', {'half': half.df, 'stock': stock.df, 'stock_year': stock.df_year, 'bond': bond.df, 'bond_year': bond.df_year})"
   ]
  },
  {
   "cell_type": "code",
   "execution_count": null,
   "metadata": {},
   "outputs": [],
   "source": []
  }
 ],
 "metadata": {
  "kernelspec": {
   "display_name": "venv_mark",
   "language": "python",
   "name": "python3"
  },
  "language_info": {
   "codemirror_mode": {
    "name": "ipython",
    "version": 3
   },
   "file_extension": ".py",
   "mimetype": "text/x-python",
   "name": "python",
   "nbconvert_exporter": "python",
   "pygments_lexer": "ipython3",
   "version": "3.10.9"
  }
 },
 "nbformat": 4,
 "nbformat_minor": 2
}
